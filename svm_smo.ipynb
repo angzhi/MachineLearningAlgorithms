{
 "cells": [
  {
   "cell_type": "markdown",
   "metadata": {},
   "source": [
    "# SVM and SMO\n",
    "#### created by angzhi\n",
    "\n",
    "\n",
    "\n",
    "## Introduction to Support Vector Machine\n",
    "Support Vector Machine is a binary classifier.\n",
    "\n",
    "## Maximum Margin\n",
    "### Functional margin\n",
    "\n",
    "### Geomatrical margin\n",
    "\n",
    "### Objective function\n",
    "\n",
    "## Lagrangian and Duality problems\n",
    "### Lagrange multipliers\n",
    "### Duality problems\n",
    "### KKT conditions\n",
    "\n",
    "## SMO"
   ]
  },
  {
   "cell_type": "markdown",
   "metadata": {},
   "source": []
  },
  {
   "cell_type": "markdown",
   "metadata": {},
   "source": []
  }
 ],
 "metadata": {
  "kernelspec": {
   "display_name": "Python2.7",
   "language": "python",
   "name": "paddle0.12"
  },
  "language_info": {
   "codemirror_mode": {
    "name": "ipython",
    "version": 2
   },
   "file_extension": ".py",
   "mimetype": "text/x-python",
   "name": "python",
   "nbconvert_exporter": "python",
   "pygments_lexer": "ipython2",
   "version": "2.7.15"
  }
 },
 "nbformat": 4,
 "nbformat_minor": 1
}
